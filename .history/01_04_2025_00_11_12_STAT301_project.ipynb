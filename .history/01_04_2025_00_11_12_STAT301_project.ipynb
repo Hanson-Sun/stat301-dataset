{
 "cells": [
  {
   "cell_type": "markdown",
   "id": "eb53a0ec-8d12-4352-bf13-c6640edacb21",
   "metadata": {},
   "source": [
    "# Customer Personality Exploratory Analysis (With Poisson)\n",
    "\n",
    "Group 25\n",
    "\n",
    "TODO: names here\n",
    "\n",
    "Hanson Sun"
   ]
  },
  {
   "cell_type": "code",
   "execution_count": null,
   "id": "be1493b3-c4ab-4157-ba57-1162045a725a",
   "metadata": {
    "vscode": {
     "languageId": "r"
    }
   },
   "outputs": [],
   "source": [
    "library(GGally)\n",
    "library(broom)\n",
    "library(tidyverse)\n",
    "library(ggplot2)\n",
    "library(car)\n",
    "library(leaps)\n",
    "library(MASS)\n",
    "library(dplyr)\n",
    "library(corrplot)\n",
    "library(gridExtra)"
   ]
  },
  {
   "cell_type": "markdown",
   "id": "fa607ee9-c5fd-4a49-a4ba-a9027401c5dd",
   "metadata": {},
   "source": [
    "## Introduction\n",
    "\n",
    "The **Customer Personality Analysis** dataset contains **2,240 observations** and **29 variables**, providing demographic and behavioral insights into customer purchasing habits. It includes details such as age, income, marital status, and educational background, alongside purchasing behavior across different product categories (e.g., wine, meat, and sweets). Additionally, it tracks customer engagement through campaign responses, purchase channels (discount, store, web, catalog), and website visits.\n",
    "\n",
    "An important characteristic of this dataset is its focus on **customer segmentation and targeted marketing** by analyzing spending patterns and campaign interactions. It also includes variables like customer complaints and recency of last purchase, which can help in understanding customer satisfaction and retention.\n",
    "\n",
    "Below is a summary of the dataset's key variables:\n",
    "\n",
    "| Variable Name            | Type    | Description                                                                |\n",
    "|--------------------------|---------|----------------------------------------------------------------------------|\n",
    "| **ID**                   | Integer | Unique identifier for each customer                                        |\n",
    "| **Year_Birth**           | Integer | Year of birth of the customer                                              |\n",
    "| **Education**            | Factor  | Educational qualification of the customer                                  |\n",
    "| **Marital_Status**       | Factor  | Marital status of the customer                                             |\n",
    "| **Income**               | Float   | Annual income of the customer                                              |\n",
    "| **Kidhome**              | Integer | Number of children in the customer's household                             |\n",
    "| **Teenhome**             | Integer | Number of teenagers in the customer's household                            |\n",
    "| **Dt_Customer**          | Date    | Date of customer's enrollment with the company                             |\n",
    "| **Recency**              | Integer | Number of days since the customer's last purchase                          |\n",
    "| **Mnt`[item]`**            | Float   | Amount spent on `[item]` in the last two years (wine, fruits, meat, fish, sweets, gold)                               |\n",
    "| **Num`[type]`**            | Integer | Number of `[type]` purchases (discount, web, catalog, store, web visits)                                |\n",
    "| **AcceptedCmp1-5**       | Factor | 1 if customer accepted the offer in respective campaigns, 0 otherwise      |\n",
    "| **Response**             | Factor | 1 if customer accepted the offer in the last campaign, 0 otherwise         |\n",
    "| **Complain**             | Factor | 1 if customer complained in the last two years, 0 otherwise                |\n",
    "| **Z_CostContact**        | Integer | Constant variable with value 3 (presumably cost related)                   |\n",
    "| **Z_Revenue**            | Integer | Constant variable with value 11 (presumably revenue related)               |\n",
    "\n",
    "### Source and Information \n",
    "Unfortunately, details regarding how the data is collected is not specified, but we know it is under CC0: Public Domain.\n",
    "\n",
    "Data source: https://www.kaggle.com/datasets/imakash3011/customer-personality-analysis\n"
   ]
  },
  {
   "cell_type": "markdown",
   "id": "28352ca5-f242-4d44-aae0-5a693ea9540f",
   "metadata": {},
   "source": [
    "### Research Question\n",
    "\n",
    "**How is a person's family details and purchasing habits _associated_ with the number of web purchases they make?**\n",
    "- **Response Variable**: `NumWebPurchases` (count of web purchases)\n",
    "- **Explanatory Variables**: `Education`, `Marital_Status`, `Income`, `Kidhome`, `Teenhome`, `MntMeatProducts`, `NumStorePurchases`, `MntSweetProducts` + everything else that isn't dropped (more details [here](#Variable-Preselection))\n",
    "\n",
    "This question focuses on **inference**, aiming to understand how personal and family details are associated with their number of web purchases. Specifically, we want to examine the relationships between `NumWebPurchases` and the explanatory variables to determine their significance. While there could be a predictive aspect, the primary goal is to analyze these relationships rather than make future predictions.\n",
    "\n",
    "### Variable Preselection\n",
    "The following variables will be dropped:\n",
    "- `ID`: user ID holds no important information.\n",
    "- `Z_Revenue` and `Z_CostContact`: their meaning is not specified in the data.\n",
    "- `Response`, `AcceptedCmp1-5`, `Complain`, `Dt_Customer`, `Recency`: these are related to marketing campaigns, which deviates from our problem."
   ]
  },
  {
   "cell_type": "markdown",
   "id": "8c17d7fa-df61-42cf-9b11-5bd3c093fec8",
   "metadata": {},
   "source": [
    "## Methods and Results\n",
    "\n",
    "### Exploratory Data Analysis (EDA)\n",
    "\n",
    "We will perform the following steps to help visualize and clean the data\n",
    "1. remove redundant/unhelpful features\n",
    "2. convert the data into the correct data types\n",
    "3. Merge redundant levels and drop non-sensical observations\n",
    "4. visualize the data via a faceted violin plot"
   ]
  },
  {
   "cell_type": "markdown",
   "id": "625c0e8c-98f9-450d-a022-f1d4660e096f",
   "metadata": {},
   "source": [
    "We clean and display a section of the data below"
   ]
  },
  {
   "cell_type": "code",
   "execution_count": null,
   "id": "1aaaae82-c5be-4e58-a424-424670705efc",
   "metadata": {
    "vscode": {
     "languageId": "r"
    }
   },
   "outputs": [],
   "source": [
    "# Main developer: Hanson\n",
    "drop_variables <- c('ID', 'Z_CostContact', 'Z_Revenue', 'Response', 'AcceptedCmp1', 'AcceptedCmp2', 'AcceptedCmp3', 'AcceptedCmp4', 'AcceptedCmp5', 'Complain', 'Dt_Customer', 'Recency')\n",
    "data <- read.csv(url(\"https://raw.githubusercontent.com/Hanson-Sun/stat301-dataset/refs/heads/main/marketing_campaign.csv\"), check.names = FALSE, stringsAsFactors=TRUE, sep=\"\\t\")\n",
    "\n",
    "# remove redundant columns\n",
    "data <- data %>% dplyr::select(-all_of(drop_variables))\n",
    "\n",
    "# convert variables into correct types\n",
    "data$Education <- as.factor(data$Education)\n",
    "data$Marital_Status <- as.factor(data$Marital_Status)\n",
    "data$Year_Birth <- as.integer(data$Year_Birth)\n",
    "data$Income <- as.numeric(data$Income)\n",
    "data$Kidhome <- as.integer(data$Kidhome)\n",
    "data$Teenhome <- as.integer(data$Teenhome)\n",
    "spending_vars <- c(\"MntWines\", \"MntFruits\", \"MntMeatProducts\", \n",
    "                   \"MntFishProducts\", \"MntSweetProducts\", \"MntGoldProds\",\n",
    "                   \"NumDealsPurchases\", \"NumWebPurchases\", \"NumCatalogPurchases\",\n",
    "                   \"NumStorePurchases\", \"NumWebVisitsMonth\")\n",
    "data[spending_vars] <- lapply(data[spending_vars], as.numeric)\n",
    "\n",
    "cat(\"\\nUnique levels of Education:\\n\")\n",
    "levels(data$Education)\n",
    "\n",
    "cat(\"\\nUnique levels of Marital Status:\\n\")\n",
    "levels(data$Marital_Status)\n",
    "\n",
    "cat(\"\\nMissing data:\\n\")\n",
    "colSums(is.na(data))\n"
   ]
  },
  {
   "cell_type": "markdown",
   "id": "73f324e5-b322-4c2d-9e12-9c4ab512c8ae",
   "metadata": {},
   "source": [
    "#### Data Wrangling\n",
    "\n",
    "There are some anomalies within our data:\n",
    "- In `Marital_Status`, the levels `Absurd` and `YOLO` do not make sense, so we will drop those. Moreover, `Single` is the same as `Alone` and `Married` is the same as `Together` so they will be merged respectively. \n",
    "- In `Education`, `2n Cycle` is the European equivalent of a master's degree so it will be merged with `Master`\n",
    "- 24 rows are missing `Income`; we will simply drop them instead of imputing any values. "
   ]
  },
  {
   "cell_type": "code",
   "execution_count": null,
   "id": "b95318e3-6ad1-410f-a504-a376e4b59bff",
   "metadata": {
    "vscode": {
     "languageId": "r"
    }
   },
   "outputs": [],
   "source": [
    "# Main developer: Hanson\n",
    "# clean Marital_Status column\n",
    "data <- data %>%\n",
    "  mutate(Marital_Status = fct_recode(Marital_Status, \"Single\" = \"Alone\", \"Married\" = \"Together\")) %>% \n",
    "  filter(!Marital_Status %in% c(\"Absurd\", \"YOLO\")) %>%\n",
    "  droplevels()\n",
    "\n",
    "# clean Education column\n",
    "data <- data %>%\n",
    "  mutate(Education = fct_recode(Education, \"Master\" = \"2n Cycle\")) %>%\n",
    "  droplevels()\n",
    "\n",
    "# remove rows with missing data\n",
    "data <- na.omit(data)\n"
   ]
  },
  {
   "cell_type": "markdown",
   "id": "ed49b906-7ff6-4600-a023-4ec278d98d01",
   "metadata": {},
   "source": [
    "#### Data Summary\n",
    "\n",
    "Below we have the summary statistics of the cleaned data."
   ]
  },
  {
   "cell_type": "code",
   "execution_count": null,
   "id": "0840e06a-8752-455f-b165-15a10663ad0f",
   "metadata": {
    "vscode": {
     "languageId": "r"
    }
   },
   "outputs": [],
   "source": [
    "# Main developer: Hanson\n",
    "cat(\"The cleaned dataset has\", nrow(data), \"rows and\", ncol(data), \"columns.\\n\")\n",
    "head(data)\n",
    "summary(data)"
   ]
  },
  {
   "cell_type": "markdown",
   "id": "1bed8550-02a5-4641-9871-a1d3d1b3edb3",
   "metadata": {},
   "source": [
    "#### Data Visualization\n",
    "\n",
    "We will visualize a subset of the features via a faceted violin plot. This visualization will specifically examine the family aspect and its impact on web purchases. Namely, how `Marital_Status` and family size (`Kidhome`, `Teenhome`) relate to web purchases (`NumWebPurchases`)."
   ]
  },
  {
   "cell_type": "code",
   "execution_count": null,
   "id": "d9f42583-4c80-45b6-9d40-73fee7ac42f2",
   "metadata": {
    "vscode": {
     "languageId": "r"
    }
   },
   "outputs": [],
   "source": [
    "# Main developer: Hanson\n",
    "options(repr.plot.width=14, repr.plot.height=8) \n",
    "\n",
    "ggplot(data, aes(x = as.factor(Kidhome + Teenhome), y = NumWebPurchases, fill = as.factor(Kidhome + Teenhome))) +\n",
    "  geom_violin(alpha = 0.5, trim = FALSE) + \n",
    "  geom_boxplot(width = 0.2, outlier.shape = NA, alpha = 0.7) + \n",
    "  facet_wrap(~ Marital_Status, scales = \"free_x\") +\n",
    "  scale_fill_brewer(palette = \"Set2\") +\n",
    "  labs(title = \"Association of Family Size on Web Purchases\",\n",
    "       x = \"Total Number of Children (Kidhome + Teenhome)\",\n",
    "       y = \"Number of Web Purchases\",\n",
    "       fill = \"Children in Household\") +\n",
    "  theme_minimal(base_size = 14) + \n",
    "  theme(\n",
    "    plot.title = element_text(face = \"bold\", size = 18, hjust = 0.5),\n",
    "    axis.text.x = element_text(angle = 30, hjust = 1), \n",
    "    legend.position = \"top\" \n",
    "  )"
   ]
  },
  {
   "cell_type": "markdown",
   "id": "c6285141-06d8-41cd-9504-3ad5e7d2f954",
   "metadata": {},
   "source": [
    "The plot shows that family size (number of children) and marital status is **associated** with web purchases. Overall, individuals with **zero** children tend to have fewer web-based purchases, while those with **one or more** children exhibit a wider spread, suggesting more variability in purchasing behavior. The effect of marital status is also apparent -- **divorced and married** individuals tend to have more web purchases than **singles or widows**, though variability exists across groups. This insight helps build the Poisson regression model by confirming that family structure is a key predictor of web purchases, and perhaps an interaction of those terms can yield helpful results. We also notice a potential for overdispersion in some groups, as observed by the large variance in certain groups (perhaps using quasi models here will be a good idea). "
   ]
  },
  {
   "cell_type": "code",
   "execution_count": null,
   "id": "60758948",
   "metadata": {
    "vscode": {
     "languageId": "r"
    }
   },
   "outputs": [],
   "source": [
    "options(repr.plot.width=12, repr.plot.height=10) \n",
    "\n",
    "# Create TotalChildren variable if not already done\n",
    "if (!\"TotalChildren\" %in% names(data)) {\n",
    "  data <- data %>% mutate(TotalChildren = Kidhome + Teenhome)\n",
    "}\n",
    "\n",
    "# Create the pair plot\n",
    "# Use lower for scatterplots with smooth, diag for density, upper for correlation\n",
    "ggpairs(data,\n",
    "        lower = list(continuous = wrap(\"smooth\", alpha = 0.3, color = \"blue\")), \n",
    "        diag = list(continuous = wrap(\"barDiag\", fill=\"skyblue\", color=\"black\", bins=15)),\n",
    "        upper = list(continuous = wrap(\"cor\", size = 4))) +\n",
    "  labs(title = \"Pair Plot of Key Numeric Variables\") +\n",
    "  theme_minimal(base_size = 10) +\n",
    "  theme(plot.title = element_text(face = \"bold\", size = 16, hjust = 0.5),\n",
    "        axis.text.x = element_text(angle = 45, hjust = 1))"
   ]
  },
  {
   "cell_type": "code",
   "execution_count": null,
   "id": "7905af46",
   "metadata": {
    "vscode": {
     "languageId": "r"
    }
   },
   "outputs": [],
   "source": [
    "options(repr.plot.width = 12, repr.plot.height = 10)\n",
    "ggplot(data, aes(x = Income, y = NumWebPurchases, \n",
    "               color = NumWebVisitsMonth, size = NumDealsPurchases)) +\n",
    "  geom_point(alpha = 0.6) +  \n",
    "  scale_x_log10(labels = scales::comma) +  \n",
    "  scale_color_viridis_c(name = \"Website Visits\") +  \n",
    "  scale_size_continuous(name = \"Deals Purchases\", breaks = c(1, 5, 10, 15), range = c(1, 8)) +  \n",
    "  facet_wrap(~Education, ncol = 2, scales = \"free\") +  \n",
    "  labs(\n",
    "    title = \"Exploring Factors Influencing Web Purchases\",\n",
    "    x = \"Income group\",\n",
    "    y = \"Number of Web Purchases\",\n",
    "    color = \"Website Visits\",\n",
    "    size = \"Deals Purchases\"\n",
    "  ) +\n",
    "  theme_minimal() +\n",
    "  theme(\n",
    "    legend.position = \"right\",\n",
    "    strip.text = element_text(size = 12),  \n",
    "    plot.title = element_text(size = 16, face = \"bold\") \n",
    "  )"
   ]
  },
  {
   "cell_type": "markdown",
   "id": "d92a2b6f-8cad-4591-97ca-92d7eeb73b22",
   "metadata": {},
   "source": [
    "### Methods: Plan\n",
    "\n",
    "We will focus on **inference** and the overview of the method is as follows:\n",
    "1. split data into selection set and inference set\n",
    "2. pick a Poisson model\n",
    "3. perform step-wise forward selection (using BIC) on the selection set\n",
    "4. train inference model and perform inference with `anova` and `z-test` ($\\alpha = 0.05$)\n",
    "\n",
    "Since our response variable is count-based, we will use a Poisson model. To determine useful covariates, we will use stepwise selection with BIC. We chose BIC since it favours simpler models (Occam's razor principle). Lastly, we use inference on our best model to determine the statistical significance of our predictors.\n",
    "\n",
    "Here are the assumptions our method has:\n",
    "- Variance of the response is equal to the mean\n",
    "- The response variable is approximately linear\n",
    "- Observations independent and identically distributed\n",
    "- The true model is a subset of our available features (BIC assumption)\n",
    "\n",
    "Here are some potential weaknesses:\n",
    "- The variance of the response may not be equal to the mean, which would affect the effectiveness of the Poisson model\n",
    "- Step-wise selection is based on a heuristic that may not lead to the optimal model.\n",
    "- `anova` may suffer from inflated type-I error if there are too many predictors.\n",
    "- The resulting predictors could be multicollinear, which will inflate $p$-values.\n"
   ]
  },
  {
   "cell_type": "markdown",
   "id": "682ae7d8-aeb9-4261-986f-4d6d37eb68f0",
   "metadata": {},
   "source": [
    "### Data Splitting\n",
    "We will will perform a 60/40 split to get the selection and inference sets."
   ]
  },
  {
   "cell_type": "code",
   "execution_count": 6,
   "id": "7b98dfec-583d-45f8-a400-84fadce101ee",
   "metadata": {
    "vscode": {
     "languageId": "r"
    }
   },
   "outputs": [
    {
     "name": "stdout",
     "output_type": "stream",
     "text": [
      "selection set has  1327 rows and inference set has  751 rows\n"
     ]
    }
   ],
   "source": [
    "selection_data <- data %>% sample_frac(0.6)\n",
    "inference_data <- data %>% setdiff(selection_data)\n",
    "\n",
    "cat(\"selection set has \", nrow(selection_data), \"rows and inference set has \", nrow(inference_data), \"rows\\n\")"
   ]
  },
  {
   "cell_type": "markdown",
   "id": "6d98e8da-d099-4604-92b1-662df526e3c6",
   "metadata": {},
   "source": [
    "### Step-wise Variable Selection\n",
    "We will use `stepAIC` and the $\\log$ approximation of `k` to get selection with BIC."
   ]
  },
  {
   "cell_type": "code",
   "execution_count": null,
   "id": "386bc96a-5749-4705-bfaf-00b6602e9fc5",
   "metadata": {
    "vscode": {
     "languageId": "r"
    }
   },
   "outputs": [
    {
     "name": "stdout",
     "output_type": "stream",
     "text": [
      "Deviance of the model: 791.0126 Degrees of freedom: 1318 \n"
     ]
    },
    {
     "data": {
      "text/html": [
       "<style>\n",
       ".dl-inline {width: auto; margin:0; padding: 0}\n",
       ".dl-inline>dt, .dl-inline>dd {float: none; width: auto; display: inline-block}\n",
       ".dl-inline>dt::after {content: \":\\0020\"; padding-right: .5ex}\n",
       ".dl-inline>dt:not(:first-of-type) {padding-left: .5ex}\n",
       "</style><dl class=dl-inline><dt>Teenhome</dt><dd>1.10194997878386</dd><dt>NumWebVisitsMonth</dt><dd>1.94626096754758</dd><dt>NumWebPurchases</dt><dd>1.81979206192907</dd><dt>Kidhome</dt><dd>1.64069051393999</dd><dt>NumCatalogPurchases</dt><dd>1.77402021506132</dd><dt>NumStorePurchases</dt><dd>2.38385431315036</dd><dt>Income</dt><dd>3.13641253170668</dd><dt>MntWines</dt><dd>3.06009404595643</dd></dl>\n"
      ],
      "text/latex": [
       "\\begin{description*}\n",
       "\\item[Teenhome] 1.10194997878386\n",
       "\\item[NumWebVisitsMonth] 1.94626096754758\n",
       "\\item[NumWebPurchases] 1.81979206192907\n",
       "\\item[Kidhome] 1.64069051393999\n",
       "\\item[NumCatalogPurchases] 1.77402021506132\n",
       "\\item[NumStorePurchases] 2.38385431315036\n",
       "\\item[Income] 3.13641253170668\n",
       "\\item[MntWines] 3.06009404595643\n",
       "\\end{description*}\n"
      ],
      "text/markdown": [
       "Teenhome\n",
       ":   1.10194997878386NumWebVisitsMonth\n",
       ":   1.94626096754758NumWebPurchases\n",
       ":   1.81979206192907Kidhome\n",
       ":   1.64069051393999NumCatalogPurchases\n",
       ":   1.77402021506132NumStorePurchases\n",
       ":   2.38385431315036Income\n",
       ":   3.13641253170668MntWines\n",
       ":   3.06009404595643\n",
       "\n"
      ],
      "text/plain": [
       "           Teenhome   NumWebVisitsMonth     NumWebPurchases             Kidhome \n",
       "           1.101950            1.946261            1.819792            1.640691 \n",
       "NumCatalogPurchases   NumStorePurchases              Income            MntWines \n",
       "           1.774020            2.383854            3.136413            3.060094 "
      ]
     },
     "metadata": {},
     "output_type": "display_data"
    }
   ],
   "source": [
    "full_model <- glm(NumWebPurchases ~ ., family = poisson, data = selection_data)\n",
    "null_model <- glm(NumWebPurchases ~ 1, family = poisson, data = selection_data)\n",
    "suppress_output <- capture.output(\n",
    "  selected_model <- stepAIC(null_model, \n",
    "                            scope = list(lower = null_model, upper = full_model),\n",
    "                            direction = \"forward\", \n",
    "                            k = log(nrow(selection_data))) # BIC\n",
    ")\n",
    "\n",
    "m_coefficients <- names(coef(selected_model))\n",
    "m_coefficients <- m_coefficients[m_coefficients != \"(Intercept)\"]\n",
    "cat(\"Deviance of the model:\", selected_model$deviance, \"Degrees of freedom:\", selected_model$df.residual,  \"\\n\")\n",
    "vif(selected_model)"
   ]
  },
  {
   "cell_type": "markdown",
   "id": "bac46888-e47f-4fc7-a9e8-c8ea54d0a983",
   "metadata": {},
   "source": [
    "The VIF values are all less than 3, so multicollinearity is not a big problem with our predictors. Moreover, the deviance is close to the degrees of freedom, so we do not observe a significant amount of over-dispersion."
   ]
  },
  {
   "cell_type": "markdown",
   "id": "cfe2b1b4-2e56-47d2-9a9d-ffb8d1774e6b",
   "metadata": {},
   "source": [
    "#### Inference and Final Results\n",
    "\n",
    "We will perform our inference tests on the inference test and summarize the results in a table."
   ]
  },
  {
   "cell_type": "code",
   "execution_count": null,
   "id": "72ef3c12-465f-467b-8766-ba9f6b460756",
   "metadata": {
    "vscode": {
     "languageId": "r"
    }
   },
   "outputs": [
    {
     "data": {
      "text/html": [
       "<table class=\"dataframe\">\n",
       "<caption>A data.frame: 11 × 12</caption>\n",
       "<thead>\n",
       "\t<tr><th></th><th scope=col>Source</th><th scope=col>Resid. Df</th><th scope=col>Resid. Dev</th><th scope=col>Df</th><th scope=col>Deviance</th><th scope=col>Pr(&gt;Chi)</th><th scope=col>Type</th><th scope=col>Estimate</th><th scope=col>Std. Error</th><th scope=col>z value</th><th scope=col>Pr(&gt;|z|)</th><th scope=col>Term</th></tr>\n",
       "\t<tr><th></th><th scope=col>&lt;chr&gt;</th><th scope=col>&lt;dbl&gt;</th><th scope=col>&lt;dbl&gt;</th><th scope=col>&lt;dbl&gt;</th><th scope=col>&lt;dbl&gt;</th><th scope=col>&lt;dbl&gt;</th><th scope=col>&lt;chr&gt;</th><th scope=col>&lt;dbl&gt;</th><th scope=col>&lt;dbl&gt;</th><th scope=col>&lt;dbl&gt;</th><th scope=col>&lt;dbl&gt;</th><th scope=col>&lt;chr&gt;</th></tr>\n",
       "</thead>\n",
       "<tbody>\n",
       "\t<tr><th scope=row>1</th><td>1</td><td>750</td><td>1009.0176</td><td>NA</td><td>      NA</td><td>         NA</td><td>ANOVA       </td><td>           NA</td><td>          NA</td><td>        NA</td><td>          NA</td><td>NA                 </td></tr>\n",
       "\t<tr><th scope=row>2</th><td>1</td><td>742</td><td> 544.9215</td><td> 8</td><td>464.0961</td><td>3.52387e-95</td><td>ANOVA       </td><td>           NA</td><td>          NA</td><td>        NA</td><td>          NA</td><td>NA                 </td></tr>\n",
       "\t<tr><th scope=row>(Intercept)</th><td>2</td><td> NA</td><td>       NA</td><td>NA</td><td>      NA</td><td>         NA</td><td>Coefficients</td><td>-1.118087e+00</td><td>1.220205e-01</td><td>-9.1631089</td><td>5.042328e-20</td><td>(Intercept)        </td></tr>\n",
       "\t<tr><th scope=row>Teenhome</th><td>2</td><td> NA</td><td>       NA</td><td>NA</td><td>      NA</td><td>         NA</td><td>Coefficients</td><td> 5.198456e-01</td><td>4.203229e-02</td><td>12.3677694</td><td>3.905163e-35</td><td>Teenhome           </td></tr>\n",
       "\t<tr><th scope=row>NumWebVisitsMonth</th><td>2</td><td> NA</td><td>       NA</td><td>NA</td><td>      NA</td><td>         NA</td><td>Coefficients</td><td> 1.401468e-01</td><td>1.092341e-02</td><td>12.8299476</td><td>1.114395e-37</td><td>NumWebVisitsMonth  </td></tr>\n",
       "\t<tr><th scope=row>NumWebPurchases</th><td>2</td><td> NA</td><td>       NA</td><td>NA</td><td>      NA</td><td>         NA</td><td>Coefficients</td><td> 4.441393e-02</td><td>9.801192e-03</td><td> 4.5314827</td><td>5.857113e-06</td><td>NumWebPurchases    </td></tr>\n",
       "\t<tr><th scope=row>Kidhome</th><td>2</td><td> NA</td><td>       NA</td><td>NA</td><td>      NA</td><td>         NA</td><td>Coefficients</td><td> 4.261203e-01</td><td>5.111552e-02</td><td> 8.3364185</td><td>7.657457e-17</td><td>Kidhome            </td></tr>\n",
       "\t<tr><th scope=row>NumCatalogPurchases</th><td>2</td><td> NA</td><td>       NA</td><td>NA</td><td>      NA</td><td>         NA</td><td>Coefficients</td><td> 8.033190e-02</td><td>1.214536e-02</td><td> 6.6142055</td><td>3.735525e-11</td><td>NumCatalogPurchases</td></tr>\n",
       "\t<tr><th scope=row>NumStorePurchases</th><td>2</td><td> NA</td><td>       NA</td><td>NA</td><td>      NA</td><td>         NA</td><td>Coefficients</td><td> 5.799635e-02</td><td>1.126306e-02</td><td> 5.1492539</td><td>2.615246e-07</td><td>NumStorePurchases  </td></tr>\n",
       "\t<tr><th scope=row>Income</th><td>2</td><td> NA</td><td>       NA</td><td>NA</td><td>      NA</td><td>         NA</td><td>Coefficients</td><td> 3.820084e-07</td><td>9.639455e-07</td><td> 0.3962967</td><td>6.918862e-01</td><td>Income             </td></tr>\n",
       "\t<tr><th scope=row>MntWines</th><td>2</td><td> NA</td><td>       NA</td><td>NA</td><td>      NA</td><td>         NA</td><td>Coefficients</td><td>-3.523565e-04</td><td>1.157497e-04</td><td>-3.0441250</td><td>2.333581e-03</td><td>MntWines           </td></tr>\n",
       "</tbody>\n",
       "</table>\n"
      ],
      "text/latex": [
       "A data.frame: 11 × 12\n",
       "\\begin{tabular}{r|llllllllllll}\n",
       "  & Source & Resid. Df & Resid. Dev & Df & Deviance & Pr(>Chi) & Type & Estimate & Std. Error & z value & Pr(>\\textbar{}z\\textbar{}) & Term\\\\\n",
       "  & <chr> & <dbl> & <dbl> & <dbl> & <dbl> & <dbl> & <chr> & <dbl> & <dbl> & <dbl> & <dbl> & <chr>\\\\\n",
       "\\hline\n",
       "\t1 & 1 & 750 & 1009.0176 & NA &       NA &          NA & ANOVA        &            NA &           NA &         NA &           NA & NA                 \\\\\n",
       "\t2 & 1 & 742 &  544.9215 &  8 & 464.0961 & 3.52387e-95 & ANOVA        &            NA &           NA &         NA &           NA & NA                 \\\\\n",
       "\t(Intercept) & 2 &  NA &        NA & NA &       NA &          NA & Coefficients & -1.118087e+00 & 1.220205e-01 & -9.1631089 & 5.042328e-20 & (Intercept)        \\\\\n",
       "\tTeenhome & 2 &  NA &        NA & NA &       NA &          NA & Coefficients &  5.198456e-01 & 4.203229e-02 & 12.3677694 & 3.905163e-35 & Teenhome           \\\\\n",
       "\tNumWebVisitsMonth & 2 &  NA &        NA & NA &       NA &          NA & Coefficients &  1.401468e-01 & 1.092341e-02 & 12.8299476 & 1.114395e-37 & NumWebVisitsMonth  \\\\\n",
       "\tNumWebPurchases & 2 &  NA &        NA & NA &       NA &          NA & Coefficients &  4.441393e-02 & 9.801192e-03 &  4.5314827 & 5.857113e-06 & NumWebPurchases    \\\\\n",
       "\tKidhome & 2 &  NA &        NA & NA &       NA &          NA & Coefficients &  4.261203e-01 & 5.111552e-02 &  8.3364185 & 7.657457e-17 & Kidhome            \\\\\n",
       "\tNumCatalogPurchases & 2 &  NA &        NA & NA &       NA &          NA & Coefficients &  8.033190e-02 & 1.214536e-02 &  6.6142055 & 3.735525e-11 & NumCatalogPurchases\\\\\n",
       "\tNumStorePurchases & 2 &  NA &        NA & NA &       NA &          NA & Coefficients &  5.799635e-02 & 1.126306e-02 &  5.1492539 & 2.615246e-07 & NumStorePurchases  \\\\\n",
       "\tIncome & 2 &  NA &        NA & NA &       NA &          NA & Coefficients &  3.820084e-07 & 9.639455e-07 &  0.3962967 & 6.918862e-01 & Income             \\\\\n",
       "\tMntWines & 2 &  NA &        NA & NA &       NA &          NA & Coefficients & -3.523565e-04 & 1.157497e-04 & -3.0441250 & 2.333581e-03 & MntWines           \\\\\n",
       "\\end{tabular}\n"
      ],
      "text/markdown": [
       "\n",
       "A data.frame: 11 × 12\n",
       "\n",
       "| <!--/--> | Source &lt;chr&gt; | Resid. Df &lt;dbl&gt; | Resid. Dev &lt;dbl&gt; | Df &lt;dbl&gt; | Deviance &lt;dbl&gt; | Pr(&gt;Chi) &lt;dbl&gt; | Type &lt;chr&gt; | Estimate &lt;dbl&gt; | Std. Error &lt;dbl&gt; | z value &lt;dbl&gt; | Pr(&gt;|z|) &lt;dbl&gt; | Term &lt;chr&gt; |\n",
       "|---|---|---|---|---|---|---|---|---|---|---|---|---|\n",
       "| 1 | 1 | 750 | 1009.0176 | NA |       NA |          NA | ANOVA        |            NA |           NA |         NA |           NA | NA                  |\n",
       "| 2 | 1 | 742 |  544.9215 |  8 | 464.0961 | 3.52387e-95 | ANOVA        |            NA |           NA |         NA |           NA | NA                  |\n",
       "| (Intercept) | 2 |  NA |        NA | NA |       NA |          NA | Coefficients | -1.118087e+00 | 1.220205e-01 | -9.1631089 | 5.042328e-20 | (Intercept)         |\n",
       "| Teenhome | 2 |  NA |        NA | NA |       NA |          NA | Coefficients |  5.198456e-01 | 4.203229e-02 | 12.3677694 | 3.905163e-35 | Teenhome            |\n",
       "| NumWebVisitsMonth | 2 |  NA |        NA | NA |       NA |          NA | Coefficients |  1.401468e-01 | 1.092341e-02 | 12.8299476 | 1.114395e-37 | NumWebVisitsMonth   |\n",
       "| NumWebPurchases | 2 |  NA |        NA | NA |       NA |          NA | Coefficients |  4.441393e-02 | 9.801192e-03 |  4.5314827 | 5.857113e-06 | NumWebPurchases     |\n",
       "| Kidhome | 2 |  NA |        NA | NA |       NA |          NA | Coefficients |  4.261203e-01 | 5.111552e-02 |  8.3364185 | 7.657457e-17 | Kidhome             |\n",
       "| NumCatalogPurchases | 2 |  NA |        NA | NA |       NA |          NA | Coefficients |  8.033190e-02 | 1.214536e-02 |  6.6142055 | 3.735525e-11 | NumCatalogPurchases |\n",
       "| NumStorePurchases | 2 |  NA |        NA | NA |       NA |          NA | Coefficients |  5.799635e-02 | 1.126306e-02 |  5.1492539 | 2.615246e-07 | NumStorePurchases   |\n",
       "| Income | 2 |  NA |        NA | NA |       NA |          NA | Coefficients |  3.820084e-07 | 9.639455e-07 |  0.3962967 | 6.918862e-01 | Income              |\n",
       "| MntWines | 2 |  NA |        NA | NA |       NA |          NA | Coefficients | -3.523565e-04 | 1.157497e-04 | -3.0441250 | 2.333581e-03 | MntWines            |\n",
       "\n"
      ],
      "text/plain": [
       "                    Source Resid. Df Resid. Dev Df Deviance Pr(>Chi)   \n",
       "1                   1      750       1009.0176  NA       NA          NA\n",
       "2                   1      742        544.9215   8 464.0961 3.52387e-95\n",
       "(Intercept)         2       NA              NA  NA       NA          NA\n",
       "Teenhome            2       NA              NA  NA       NA          NA\n",
       "NumWebVisitsMonth   2       NA              NA  NA       NA          NA\n",
       "NumWebPurchases     2       NA              NA  NA       NA          NA\n",
       "Kidhome             2       NA              NA  NA       NA          NA\n",
       "NumCatalogPurchases 2       NA              NA  NA       NA          NA\n",
       "NumStorePurchases   2       NA              NA  NA       NA          NA\n",
       "Income              2       NA              NA  NA       NA          NA\n",
       "MntWines            2       NA              NA  NA       NA          NA\n",
       "                    Type         Estimate      Std. Error   z value   \n",
       "1                   ANOVA                   NA           NA         NA\n",
       "2                   ANOVA                   NA           NA         NA\n",
       "(Intercept)         Coefficients -1.118087e+00 1.220205e-01 -9.1631089\n",
       "Teenhome            Coefficients  5.198456e-01 4.203229e-02 12.3677694\n",
       "NumWebVisitsMonth   Coefficients  1.401468e-01 1.092341e-02 12.8299476\n",
       "NumWebPurchases     Coefficients  4.441393e-02 9.801192e-03  4.5314827\n",
       "Kidhome             Coefficients  4.261203e-01 5.111552e-02  8.3364185\n",
       "NumCatalogPurchases Coefficients  8.033190e-02 1.214536e-02  6.6142055\n",
       "NumStorePurchases   Coefficients  5.799635e-02 1.126306e-02  5.1492539\n",
       "Income              Coefficients  3.820084e-07 9.639455e-07  0.3962967\n",
       "MntWines            Coefficients -3.523565e-04 1.157497e-04 -3.0441250\n",
       "                    Pr(>|z|)     Term               \n",
       "1                             NA NA                 \n",
       "2                             NA NA                 \n",
       "(Intercept)         5.042328e-20 (Intercept)        \n",
       "Teenhome            3.905163e-35 Teenhome           \n",
       "NumWebVisitsMonth   1.114395e-37 NumWebVisitsMonth  \n",
       "NumWebPurchases     5.857113e-06 NumWebPurchases    \n",
       "Kidhome             7.657457e-17 Kidhome            \n",
       "NumCatalogPurchases 3.735525e-11 NumCatalogPurchases\n",
       "NumStorePurchases   2.615246e-07 NumStorePurchases  \n",
       "Income              6.918862e-01 Income             \n",
       "MntWines            2.333581e-03 MntWines           "
      ]
     },
     "metadata": {},
     "output_type": "display_data"
    }
   ],
   "source": [
    "inference_model <- glm(\n",
    "  formula = as.formula(paste(\"NumWebPurchases ~\", paste(m_coefficients, collapse = \" + \"))),\n",
    "  family = poisson,\n",
    "  data = inference_data\n",
    ")\n",
    "inference_null_model <- glm(NumWebPurchases ~ 1, family = poisson, data = inference_data)\n",
    "anova_res <- anova(inference_null_model, inference_model, test = \"Chisq\")\n",
    "coef_res <- coef(summary(inference_model))\n",
    "\n",
    "anova_df <- as.data.frame(anova_res) %>% mutate(Type = \"ANOVA\")\n",
    "coef_df <- as.data.frame(coef_res) %>% mutate(Type = \"Coefficients\", Term = rownames(.))\n",
    "combined_results <- bind_rows(anova_df, coef_df, .id = \"Source\")\n",
    "combined_results\n"
   ]
  },
  {
   "cell_type": "markdown",
   "id": "720396e4-3445-45ab-90e8-b235a547cdab",
   "metadata": {},
   "source": [
    "## Discussion\n",
    "In our ANOVA test, the $p$-value is less than $0.05$, which provides sufficient evidence to conclude that our final model significantly different from the null model. \n",
    "Similarly, from the $z$-test, all $p$-values are well below $0.05$, indicating that the coefficients for our selected covariates are statistically significant. \n",
    "The results are somewhat expected, as the selected covariates are all intuitively relevant to the problem (surprisingly `Salary` and `Marital Status` were not selected). \n",
    "In conclusion, we can say that `Teenhome`, `Kidhome`, `NumWebVisitsMonth`, `NumWebPurchases`, `NumCatalogPurchases`, `NumStorePurchases`, `MntWines`, `MntFruits` are **associated** with the number of discount purchases a person makes.\n",
    "\n"
   ]
  },
  {
   "cell_type": "markdown",
   "id": "5378cd36",
   "metadata": {},
   "source": [
    "## References\n",
    "TODO..."
   ]
  }
 ],
 "metadata": {
  "kernelspec": {
   "display_name": "R",
   "language": "R",
   "name": "ir"
  },
  "language_info": {
   "codemirror_mode": "r",
   "file_extension": ".r",
   "mimetype": "text/x-r-source",
   "name": "R",
   "pygments_lexer": "r",
   "version": "4.3.3"
  }
 },
 "nbformat": 4,
 "nbformat_minor": 5
}
